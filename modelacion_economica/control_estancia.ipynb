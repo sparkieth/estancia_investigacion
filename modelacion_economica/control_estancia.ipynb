{
 "cells": [
  {
   "cell_type": "code",
   "execution_count": 2,
   "metadata": {},
   "outputs": [],
   "source": [
    "import numpy as np\n",
    "import pandas as pd"
   ]
  },
  {
   "cell_type": "code",
   "execution_count": 11,
   "metadata": {},
   "outputs": [
    {
     "data": {
      "text/html": [
       "<div>\n",
       "<style scoped>\n",
       "    .dataframe tbody tr th:only-of-type {\n",
       "        vertical-align: middle;\n",
       "    }\n",
       "\n",
       "    .dataframe tbody tr th {\n",
       "        vertical-align: top;\n",
       "    }\n",
       "\n",
       "    .dataframe thead th {\n",
       "        text-align: right;\n",
       "    }\n",
       "</style>\n",
       "<table border=\"1\" class=\"dataframe\">\n",
       "  <thead>\n",
       "    <tr style=\"text-align: right;\">\n",
       "      <th></th>\n",
       "      <th>fecha</th>\n",
       "      <th>resumen de actividades</th>\n",
       "      <th>horas</th>\n",
       "    </tr>\n",
       "  </thead>\n",
       "  <tbody>\n",
       "    <tr>\n",
       "      <th>13</th>\n",
       "      <td>22/09/23</td>\n",
       "      <td>modelo de redes neuronales de cambio de frecue...</td>\n",
       "      <td>4</td>\n",
       "    </tr>\n",
       "    <tr>\n",
       "      <th>14</th>\n",
       "      <td>28/09/23</td>\n",
       "      <td>LSTM y gráficas, prueba de otros modelos de redes</td>\n",
       "      <td>5</td>\n",
       "    </tr>\n",
       "    <tr>\n",
       "      <th>15</th>\n",
       "      <td>29/09/23</td>\n",
       "      <td>RNN y gráficas</td>\n",
       "      <td>3</td>\n",
       "    </tr>\n",
       "    <tr>\n",
       "      <th>16</th>\n",
       "      <td>29/09/23</td>\n",
       "      <td>preparación de clase de Python</td>\n",
       "      <td>1</td>\n",
       "    </tr>\n",
       "    <tr>\n",
       "      <th>17</th>\n",
       "      <td>30/09/23</td>\n",
       "      <td>primer modelo bayesiano</td>\n",
       "      <td>3</td>\n",
       "    </tr>\n",
       "  </tbody>\n",
       "</table>\n",
       "</div>"
      ],
      "text/plain": [
       "       fecha                             resumen de actividades  horas\n",
       "13  22/09/23  modelo de redes neuronales de cambio de frecue...      4\n",
       "14  28/09/23  LSTM y gráficas, prueba de otros modelos de redes      5\n",
       "15  29/09/23                                     RNN y gráficas      3\n",
       "16  29/09/23                     preparación de clase de Python      1\n",
       "17  30/09/23                            primer modelo bayesiano      3"
      ]
     },
     "execution_count": 11,
     "metadata": {},
     "output_type": "execute_result"
    }
   ],
   "source": [
    "bitacora={'fecha':[],'resumen de actividades':[],'horas':[]}\n",
    "bitacora=pd.DataFrame(bitacora)\n",
    "bitacora.loc[len(bitacora.index)]=['08/09/23','función de descarga de datos IMF',4]\n",
    "bitacora.loc[len(bitacora.index)]=['08/09/23','función de consulta de glosario IMF',4]\n",
    "bitacora.loc[len(bitacora.index)]=['09/09/23','función de descarga de datos Banxico',7]\n",
    "bitacora.loc[len(bitacora.index)]=['09/09/23','función de descarga de datos INEGI',6]\n",
    "bitacora.loc[len(bitacora.index)]=['10/09/23','condensación de funciones de descarga',1]\n",
    "bitacora.loc[len(bitacora.index)]=['10/09/23','descarga de funciones y limpieza de títulos',2]\n",
    "bitacora.loc[len(bitacora.index)]=['11/09/23','gráficas de cuenta corriente, crédito, débito, netos y cuenta cap',4]\n",
    "bitacora.loc[len(bitacora.index)]=['12/09/23','selección de vars., desestac.,',4]\n",
    "bitacora.loc[len(bitacora.index)]=['13/09/23','primer modelo econométrico arima sin regresores',4]\n",
    "bitacora.loc[len(bitacora.index)]=['13/09/23','primer modelo econométrico arima con regresores',5]\n",
    "bitacora.loc[len(bitacora.index)]=['13/09/23','primeros nowcast LSTM y MIDAS regressor',5]\n",
    "bitacora.loc[len(bitacora.index)]=['18/09/23','cambios en  modelos de predicción',2]\n",
    "bitacora.loc[len(bitacora.index)]=['19/09/23','dos modelos con y sin explicativas',5]\n",
    "bitacora.loc[len(bitacora.index)]=['20/09/23','graficas, rmse auto arimas y midas de cuenta corriente',2]\n",
    "bitacora.loc[len(bitacora.index)]=['22/09/23','modelo de redes neuronales de cambio de frecuencia',4]\n",
    "bitacora.loc[len(bitacora.index)]=['28/09/23','LSTM y gráficas, prueba de otros modelos de redes',5]\n",
    "bitacora.loc[len(bitacora.index)]=['29/09/23','RNN y gráficas',3]\n",
    "bitacora.loc[len(bitacora.index)]=['29/09/23','preparación de clase de Python',1]\n",
    "bitacora.loc[len(bitacora.index)]=['30/09/23','primer modelo bayesiano',3]\n",
    "\n",
    "bitacora.tail()"
   ]
  },
  {
   "cell_type": "code",
   "execution_count": 12,
   "metadata": {},
   "outputs": [
    {
     "data": {
      "text/plain": [
       "[68, 0.2833333333333333]"
      ]
     },
     "execution_count": 12,
     "metadata": {},
     "output_type": "execute_result"
    }
   ],
   "source": [
    "horas=bitacora['horas'].sum()\n",
    "[horas,horas/240]"
   ]
  },
  {
   "cell_type": "markdown",
   "metadata": {},
   "source": [
    "## Códigos que quité pero pueden servir después"
   ]
  },
  {
   "cell_type": "code",
   "execution_count": null,
   "metadata": {},
   "outputs": [],
   "source": [
    "## Una alternativa para desestacionalizar sin los binarios de Census Bureau \n",
    "\n",
    "def seas_adj(serie):\n",
    "    str1=sm.tsa.seasonal_decompose(serie,period=4,model=\"multiplicative\")\n",
    "    return str1.trend\n",
    "\n",
    "explicativas_sa={}\n",
    "\n",
    "for i in range(np.shape(explicativas)[1]):\n",
    "    k=list(explicativas.keys())[i]\n",
    "    v=seas_adj(explicativas.iloc[:,i])\n",
    "    explicativas_sa.update({k:v})"
   ]
  }
 ],
 "metadata": {
  "kernelspec": {
   "display_name": "itam",
   "language": "python",
   "name": "python3"
  },
  "language_info": {
   "codemirror_mode": {
    "name": "ipython",
    "version": 3
   },
   "file_extension": ".py",
   "mimetype": "text/x-python",
   "name": "python",
   "nbconvert_exporter": "python",
   "pygments_lexer": "ipython3",
   "version": "3.11.0"
  },
  "orig_nbformat": 4
 },
 "nbformat": 4,
 "nbformat_minor": 2
}
