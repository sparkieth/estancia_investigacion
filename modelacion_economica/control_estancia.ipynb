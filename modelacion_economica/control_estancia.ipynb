{
 "cells": [
  {
   "cell_type": "code",
   "execution_count": 1,
   "metadata": {},
   "outputs": [],
   "source": [
    "import numpy as np\n",
    "import pandas as pd"
   ]
  },
  {
   "cell_type": "code",
   "execution_count": 3,
   "metadata": {},
   "outputs": [
    {
     "data": {
      "text/html": [
       "<div>\n",
       "<style scoped>\n",
       "    .dataframe tbody tr th:only-of-type {\n",
       "        vertical-align: middle;\n",
       "    }\n",
       "\n",
       "    .dataframe tbody tr th {\n",
       "        vertical-align: top;\n",
       "    }\n",
       "\n",
       "    .dataframe thead th {\n",
       "        text-align: right;\n",
       "    }\n",
       "</style>\n",
       "<table border=\"1\" class=\"dataframe\">\n",
       "  <thead>\n",
       "    <tr style=\"text-align: right;\">\n",
       "      <th></th>\n",
       "      <th>fecha</th>\n",
       "      <th>resumen de actividades</th>\n",
       "      <th>horas</th>\n",
       "    </tr>\n",
       "  </thead>\n",
       "  <tbody>\n",
       "    <tr>\n",
       "      <th>4</th>\n",
       "      <td>08/09/23</td>\n",
       "      <td>condensación de funciones de descarga</td>\n",
       "      <td>1</td>\n",
       "    </tr>\n",
       "    <tr>\n",
       "      <th>5</th>\n",
       "      <td>08/09/23</td>\n",
       "      <td>limpieza de títulos</td>\n",
       "      <td>2</td>\n",
       "    </tr>\n",
       "    <tr>\n",
       "      <th>6</th>\n",
       "      <td>11/09/23</td>\n",
       "      <td>gráficas de cuenta corriente, crédito, débito,...</td>\n",
       "      <td>6</td>\n",
       "    </tr>\n",
       "    <tr>\n",
       "      <th>7</th>\n",
       "      <td>12/09/23</td>\n",
       "      <td>selección de vars., desestac. X12,</td>\n",
       "      <td>6</td>\n",
       "    </tr>\n",
       "    <tr>\n",
       "      <th>8</th>\n",
       "      <td>12/09/23</td>\n",
       "      <td>primer modelo econométrico</td>\n",
       "      <td>6</td>\n",
       "    </tr>\n",
       "  </tbody>\n",
       "</table>\n",
       "</div>"
      ],
      "text/plain": [
       "      fecha                             resumen de actividades  horas\n",
       "4  08/09/23              condensación de funciones de descarga      1\n",
       "5  08/09/23                                limpieza de títulos      2\n",
       "6  11/09/23  gráficas de cuenta corriente, crédito, débito,...      6\n",
       "7  12/09/23                 selección de vars., desestac. X12,      6\n",
       "8  12/09/23                         primer modelo econométrico      6"
      ]
     },
     "execution_count": 3,
     "metadata": {},
     "output_type": "execute_result"
    }
   ],
   "source": [
    "bitacora={'fecha':[],'resumen de actividades':[],'horas':[]}\n",
    "bitacora=pd.DataFrame(bitacora)\n",
    "bitacora.loc[len(bitacora.index)]=['08/09/23','función de descarga de datos IMF',4]\n",
    "bitacora.loc[len(bitacora.index)]=['08/09/23','función de consulta de glosario IMF',4]\n",
    "bitacora.loc[len(bitacora.index)]=['07/09/23','función de descarga de datos Banxico',7]\n",
    "bitacora.loc[len(bitacora.index)]=['08/09/23','función de descarga de datos INEGI',6]\n",
    "bitacora.loc[len(bitacora.index)]=['08/09/23','condensación de funciones de descarga',1]\n",
    "bitacora.loc[len(bitacora.index)]=['08/09/23','limpieza de títulos',2]\n",
    "bitacora.loc[len(bitacora.index)]=['11/09/23','gráficas de cuenta corriente, crédito, débito, netos y cuenta cap',6]\n",
    "bitacora.loc[len(bitacora.index)]=['12/09/23','selección de vars., desestac. X12,',6]\n",
    "bitacora.loc[len(bitacora.index)]=['12/09/23','primer modelo econométrico',6]\n",
    "bitacora.tail()"
   ]
  },
  {
   "cell_type": "code",
   "execution_count": 4,
   "metadata": {},
   "outputs": [
    {
     "data": {
      "text/plain": [
       "42"
      ]
     },
     "execution_count": 4,
     "metadata": {},
     "output_type": "execute_result"
    }
   ],
   "source": [
    "bitacora['horas'].sum()"
   ]
  }
 ],
 "metadata": {
  "kernelspec": {
   "display_name": "itam",
   "language": "python",
   "name": "python3"
  },
  "language_info": {
   "codemirror_mode": {
    "name": "ipython",
    "version": 3
   },
   "file_extension": ".py",
   "mimetype": "text/x-python",
   "name": "python",
   "nbconvert_exporter": "python",
   "pygments_lexer": "ipython3",
   "version": "3.11.0"
  },
  "orig_nbformat": 4
 },
 "nbformat": 4,
 "nbformat_minor": 2
}
