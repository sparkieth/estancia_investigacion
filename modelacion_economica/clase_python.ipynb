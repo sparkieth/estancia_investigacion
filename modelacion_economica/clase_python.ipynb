{
 "cells": [
  {
   "cell_type": "markdown",
   "metadata": {},
   "source": [
    "# Aspectos básicos de Python\n",
    "\n",
    "\n",
    "Hay dos tipos de archivos que leen código de Python: notebooks (.ipynb) y scripts (.py), a los scripts también se les conoce como pyfiles\n",
    "\n",
    "Hay dos tipos de celdas (o mal llamados chunks): de código y de markdown. \n",
    "    - Hay tres tipos de viñetas en markdown:\n",
    "        * viñetas\n",
    "        - guiones\n",
    "        1. números\n",
    "        7. si pones un número no consecutivo, Markdown lo corrige\n",
    "            1. para poner subsecciones sólo hay que indentar\n",
    "\n",
    "# Título grande\n",
    "## Título menos grande\n",
    "### Título menos grande\n",
    "#### Título menos grande\n",
    "##### Título menos grande\n",
    "etc\n",
    "\n",
    "Para volver a ver el código que ya haya sido compilado sólo hay que volver a darle clic al markdown\n",
    "\n",
    "Puedes incluir fórmulas y símbolos matemáticos con escribir $$ o $$$$, por ejemplo:\n",
    "$\\frac{\\beta x_{i-1}+4 y^2}{7 \\sqrt{x_i+2}}=\\Gamma(x)$\n",
    "\n",
    "o bien, centrarlo:\n",
    "\n",
    "$$\\frac{\\beta x_{i-1}+4 y^2}{7 \\sqrt{x_i+2}}=\\Gamma(x)$$\n",
    "\n",
    "[Puedes hacer una liga a una página de internet de esta forma, por ejemplo, a la página del CIDE](https://cide.edu/)"
   ]
  },
  {
   "cell_type": "code",
   "execution_count": 16,
   "metadata": {},
   "outputs": [],
   "source": [
    "#para hacer un comentario en una celda de código puedes hacerlo de dos formas, con gato (#) o entre seis comillas (\"\"\")\n",
    "\n",
    "\"\"\"\n",
    "Si lo haces entre comillas, el comentario se ve de esta forma, lo cual es útil para cuando quieras explicar funciones que hagas más adelante tipo:\n",
    "\n",
    "Supongamos que hiciste una función que llamaste PIB(C,I,G,NX), entonces quieres hacer el siguiente comentario:\n",
    "\n",
    "DONDE:\n",
    "\n",
    "- C: consumo del país\n",
    "- I: inversión del país\n",
    "- G: gasto de gobierno\n",
    "- NX: exportaciones netas\n",
    "\n",
    "Este es un ejemplo para que veas cómo puedes hacer un comentario de más de un renglón sin necesidad de un hashtag en cada inicio :)\n",
    "\"\"\"\n",
    "\n",
    "#Ahora, las clases de objetos más comunes en Python son listas, diccionarios, sets y tuplas\n",
    "#a veces te será necesario entender qué tipo de objeto te pide la función que quieres usar, por lo que hay que familiarizarse\n",
    "lista_vacia=[]\n",
    "lista1=[[0,1,2,3],[4,5,6,7]]\n",
    "\n",
    "dic_ej={'key1':[00,10,20,30],'key2':lista1[0]}\n",
    "\n"
   ]
  },
  {
   "cell_type": "markdown",
   "metadata": {},
   "source": [
    "## Cómo manipular un data frame\n",
    "\n",
    "Recordemos nuestra lista1, la librería pandas\n",
    "\n",
    "\n",
    "* te recomiendo que te familiarices con las librerías (Python también les llama módulos) básicas como [pandas](https://pandas.pydata.org/docs/index.html), [numpy](https://numpy.org/doc/stable/) y [matplotlib](https://matplotlib.org/stable/).\n",
    "* si no sabes o no recuerdas cómo usar alguna función, cómo plantear algo, etc, Google o la página stack overflow es una buena opción, ojo con las librerías que instalas con *pip install*. Siempre es bueno revisar la documentación original de las librerías.\n",
    "* Nota: si no tienes un módulo cargado en tu computadora o en tu ambiente (uno que puedes llegar a usar mucho es [scikit-learn](https://scikit-learn.org/stable/index.html), por ejemplo para series de tiempo), corre la linea !pip install LIBRERÍA en tu archivo ipynb; por ejemplo, !pip install scikit-learn. Si tienes dudas, en las documentaciones de las librerías más usadas viene la línea que hay que correr. Sólo recuerda ponerle el ! al inicio si lo corres en un notebook para que Python reconozca que es una línea ejecutable en la terminal de línea de comandos. "
   ]
  },
  {
   "cell_type": "code",
   "execution_count": 8,
   "metadata": {},
   "outputs": [
    {
     "data": {
      "text/html": [
       "<div>\n",
       "<style scoped>\n",
       "    .dataframe tbody tr th:only-of-type {\n",
       "        vertical-align: middle;\n",
       "    }\n",
       "\n",
       "    .dataframe tbody tr th {\n",
       "        vertical-align: top;\n",
       "    }\n",
       "\n",
       "    .dataframe thead th {\n",
       "        text-align: right;\n",
       "    }\n",
       "</style>\n",
       "<table border=\"1\" class=\"dataframe\">\n",
       "  <thead>\n",
       "    <tr style=\"text-align: right;\">\n",
       "      <th></th>\n",
       "      <th>0</th>\n",
       "      <th>1</th>\n",
       "      <th>2</th>\n",
       "      <th>3</th>\n",
       "    </tr>\n",
       "  </thead>\n",
       "  <tbody>\n",
       "    <tr>\n",
       "      <th>0</th>\n",
       "      <td>0</td>\n",
       "      <td>1</td>\n",
       "      <td>2</td>\n",
       "      <td>3</td>\n",
       "    </tr>\n",
       "    <tr>\n",
       "      <th>1</th>\n",
       "      <td>4</td>\n",
       "      <td>5</td>\n",
       "      <td>6</td>\n",
       "      <td>7</td>\n",
       "    </tr>\n",
       "  </tbody>\n",
       "</table>\n",
       "</div>"
      ],
      "text/plain": [
       "   0  1  2  3\n",
       "0  0  1  2  3\n",
       "1  4  5  6  7"
      ]
     },
     "execution_count": 8,
     "metadata": {},
     "output_type": "execute_result"
    }
   ],
   "source": [
    "#Primero que nada necesitas enlistar las librerías que vas a usar. Las más comunes son pandas y numpy\n",
    "import pandas as pd\n",
    "import numpy as np\n",
    "\n",
    "'''\n",
    "Los dataframes son objetos muy aceptados en diversas funcionesde Python. Si necesitas crear uno puedes hacerlo \n",
    "a paprtir de una lista o de un diccionario, como te mostraré a continuación.\n",
    "\n",
    "Observa cómo cambiamos de lista a data frame usando la función DataFrame. \n",
    "Si quieres poner headers o por ejemplo fecha, usas la función set_axis()\n",
    "Compara los siguientes dos ejemplos:\n",
    "'''\n",
    "pd.DataFrame(lista1)"
   ]
  },
  {
   "cell_type": "code",
   "execution_count": 14,
   "metadata": {},
   "outputs": [
    {
     "data": {
      "text/html": [
       "<div>\n",
       "<style scoped>\n",
       "    .dataframe tbody tr th:only-of-type {\n",
       "        vertical-align: middle;\n",
       "    }\n",
       "\n",
       "    .dataframe tbody tr th {\n",
       "        vertical-align: top;\n",
       "    }\n",
       "\n",
       "    .dataframe thead th {\n",
       "        text-align: right;\n",
       "    }\n",
       "</style>\n",
       "<table border=\"1\" class=\"dataframe\">\n",
       "  <thead>\n",
       "    <tr style=\"text-align: right;\">\n",
       "      <th></th>\n",
       "      <th>col1</th>\n",
       "      <th>col2</th>\n",
       "      <th>col3</th>\n",
       "      <th>col4</th>\n",
       "    </tr>\n",
       "  </thead>\n",
       "  <tbody>\n",
       "    <tr>\n",
       "      <th>2010</th>\n",
       "      <td>0</td>\n",
       "      <td>1</td>\n",
       "      <td>2</td>\n",
       "      <td>3</td>\n",
       "    </tr>\n",
       "    <tr>\n",
       "      <th>2011</th>\n",
       "      <td>4</td>\n",
       "      <td>5</td>\n",
       "      <td>6</td>\n",
       "      <td>7</td>\n",
       "    </tr>\n",
       "  </tbody>\n",
       "</table>\n",
       "</div>"
      ],
      "text/plain": [
       "      col1  col2  col3  col4\n",
       "2010     0     1     2     3\n",
       "2011     4     5     6     7"
      ]
     },
     "execution_count": 14,
     "metadata": {},
     "output_type": "execute_result"
    }
   ],
   "source": [
    "pd.DataFrame(lista1).set_axis(['col1','col2','col3','col4'],axis='columns').set_axis(['2010','2011'])"
   ]
  },
  {
   "cell_type": "code",
   "execution_count": 17,
   "metadata": {},
   "outputs": [
    {
     "data": {
      "text/html": [
       "<div>\n",
       "<style scoped>\n",
       "    .dataframe tbody tr th:only-of-type {\n",
       "        vertical-align: middle;\n",
       "    }\n",
       "\n",
       "    .dataframe tbody tr th {\n",
       "        vertical-align: top;\n",
       "    }\n",
       "\n",
       "    .dataframe thead th {\n",
       "        text-align: right;\n",
       "    }\n",
       "</style>\n",
       "<table border=\"1\" class=\"dataframe\">\n",
       "  <thead>\n",
       "    <tr style=\"text-align: right;\">\n",
       "      <th></th>\n",
       "      <th>key1</th>\n",
       "      <th>key2</th>\n",
       "    </tr>\n",
       "  </thead>\n",
       "  <tbody>\n",
       "    <tr>\n",
       "      <th>0</th>\n",
       "      <td>0</td>\n",
       "      <td>0</td>\n",
       "    </tr>\n",
       "    <tr>\n",
       "      <th>1</th>\n",
       "      <td>10</td>\n",
       "      <td>1</td>\n",
       "    </tr>\n",
       "    <tr>\n",
       "      <th>2</th>\n",
       "      <td>20</td>\n",
       "      <td>2</td>\n",
       "    </tr>\n",
       "    <tr>\n",
       "      <th>3</th>\n",
       "      <td>30</td>\n",
       "      <td>3</td>\n",
       "    </tr>\n",
       "  </tbody>\n",
       "</table>\n",
       "</div>"
      ],
      "text/plain": [
       "   key1  key2\n",
       "0     0     0\n",
       "1    10     1\n",
       "2    20     2\n",
       "3    30     3"
      ]
     },
     "execution_count": 17,
     "metadata": {},
     "output_type": "execute_result"
    }
   ],
   "source": [
    "#un diccionario también puede convertirse en data frame, aquí los nombres de columnas se ponen en automático con las keys\n",
    "pd.DataFrame(dic_ej)"
   ]
  },
  {
   "cell_type": "code",
   "execution_count": 22,
   "metadata": {},
   "outputs": [
    {
     "name": "stdout",
     "output_type": "stream",
     "text": [
      "x0: 0    0\n",
      "1    1\n",
      "2    2\n",
      "3    3\n",
      "Name: key2, dtype: int64\n",
      "0     0\n",
      "1    10\n",
      "2    20\n",
      "3    30\n",
      "Name: key1, dtype: int64\n"
     ]
    }
   ],
   "source": [
    "#para seleccionar una columna puedes usar la función iloc en pipe (por practicidad voy a poner la segunda columna como x):\n",
    "df1=pd.DataFrame(dic_ej)\n",
    "x0=df1.iloc[:,1] #le estás pidiendo que seleccione todas las filas de la segunda columna. \n",
    "y0=df1.iloc[:,0] #le estás pidiendo que seleccione todas las filas de la segunda columna. \n",
    "\n",
    "#NOTA: Los índices en Python empiezan  en cero y terminan en t-1\n",
    "print(x0)\n",
    "print(y0)"
   ]
  },
  {
   "cell_type": "code",
   "execution_count": 20,
   "metadata": {},
   "outputs": [
    {
     "data": {
      "text/plain": [
       "Text(0.5, 1.0, 'Ejemplo de gráfica')"
      ]
     },
     "execution_count": 20,
     "metadata": {},
     "output_type": "execute_result"
    },
    {
     "data": {
      "image/png": "[encoded data removed]",
      "text/plain": [
       "<Figure size 640x480 with 1 Axes>"
      ]
     },
     "metadata": {},
     "output_type": "display_data"
    }
   ],
   "source": [
    "#si quieres hacer una gráfica básica puedes hacer lo siguiente:\n",
    "import matplotlib.pyplot as plt\n",
    "\n",
    "plt.plot(x0,y0)\n",
    "plt.xlabel('ejemplo eje x')\n",
    "plt.ylabel('ejemplo eje y')\n",
    "plt.title('Ejemplo de gráfica')\n",
    "\n",
    "#si quieres más feats las tendrás que googlear, es como se aprende aquí"
   ]
  },
  {
   "cell_type": "code",
   "execution_count": 27,
   "metadata": {},
   "outputs": [
    {
     "data": {
      "text/html": [
       "<div>\n",
       "<style scoped>\n",
       "    .dataframe tbody tr th:only-of-type {\n",
       "        vertical-align: middle;\n",
       "    }\n",
       "\n",
       "    .dataframe tbody tr th {\n",
       "        vertical-align: top;\n",
       "    }\n",
       "\n",
       "    .dataframe thead th {\n",
       "        text-align: right;\n",
       "    }\n",
       "</style>\n",
       "<table border=\"1\" class=\"dataframe\">\n",
       "  <thead>\n",
       "    <tr style=\"text-align: right;\">\n",
       "      <th></th>\n",
       "      <th>key1</th>\n",
       "      <th>key2</th>\n",
       "      <th>0</th>\n",
       "    </tr>\n",
       "  </thead>\n",
       "  <tbody>\n",
       "    <tr>\n",
       "      <th>0</th>\n",
       "      <td>0</td>\n",
       "      <td>0</td>\n",
       "      <td>9</td>\n",
       "    </tr>\n",
       "    <tr>\n",
       "      <th>1</th>\n",
       "      <td>10</td>\n",
       "      <td>1</td>\n",
       "      <td>8</td>\n",
       "    </tr>\n",
       "    <tr>\n",
       "      <th>2</th>\n",
       "      <td>20</td>\n",
       "      <td>2</td>\n",
       "      <td>7</td>\n",
       "    </tr>\n",
       "    <tr>\n",
       "      <th>3</th>\n",
       "      <td>30</td>\n",
       "      <td>3</td>\n",
       "      <td>6</td>\n",
       "    </tr>\n",
       "  </tbody>\n",
       "</table>\n",
       "</div>"
      ],
      "text/plain": [
       "   key1  key2  0\n",
       "0     0     0  9\n",
       "1    10     1  8\n",
       "2    20     2  7\n",
       "3    30     3  6"
      ]
     },
     "execution_count": 27,
     "metadata": {},
     "output_type": "execute_result"
    }
   ],
   "source": [
    "#otra función que te puede ayudar a entender es concat de pandas, va a concatenarte las nuevas columnas o filas que le pongas. \n",
    "#tienes que especificarle si te los tiene que concatenar como columnas (axis=1) o filas (axis=0)\n",
    "\n",
    "pd.concat([df1,pd.Series([9,8,7,6])],axis=1)\n",
    "\n",
    "#en este caso, convertí la segunda lista a serie porque me lo pidió Python,cuando te salga un error, tienes que leer qué esta pidiendo\n",
    "#si no sabes cómo solucionar un error puedes googlearlo"
   ]
  },
  {
   "cell_type": "code",
   "execution_count": 28,
   "metadata": {},
   "outputs": [
    {
     "name": "stdout",
     "output_type": "stream",
     "text": [
      "0\n",
      "1\n",
      "2\n",
      "3\n",
      "4\n"
     ]
    }
   ],
   "source": [
    "#for loops\n",
    "\n",
    "#muchas veces los programadores ignoran que python tiene funciones que hacen una tarea más eficientemente que un for loop y abusan de ellos. La ventaja que tiene familiarizarse con otras técnicas de python es que evitas error humano\n",
    "\n",
    "for i in range(5):\n",
    "    print(i)\n",
    "\n",
    "\"\"\"\n",
    "observa lo que hace la función range: genera un vector de números enteros de 0 a T-1, en este caso 5\n",
    "otra cosa importante en Python es la indentación, fijate como print está una sangría a la derecha del inicio del for loop...\n",
    "todo lo que esté una sangría dentro se asumirá que estará dentro del for loop\n",
    "\"\"\""
   ]
  }
 ],
 "metadata": {
  "kernelspec": {
   "display_name": "itam",
   "language": "python",
   "name": "python3"
  },
  "language_info": {
   "codemirror_mode": {
    "name": "ipython",
    "version": 3
   },
   "file_extension": ".py",
   "mimetype": "text/x-python",
   "name": "python",
   "nbconvert_exporter": "python",
   "pygments_lexer": "ipython3",
   "version": "3.11.0"
  },
  "orig_nbformat": 4
 },
 "nbformat": 4,
 "nbformat_minor": 2
}
