{
 "cells": [
  {
   "cell_type": "markdown",
   "metadata": {},
   "source": [
    "# Aspectos básicos de Python\n",
    "\n",
    "\n",
    "Hay dos tipos de archivos que leen código de Python: notebooks (.ipynb) y scripts (.py), a los scripts también se les conoce como pyfiles\n",
    "\n",
    "Hay dos tipos de celdas (o mal llamados chunks): de código y de markdown. \n",
    "    - Hay tres tipos de viñetas en markdown:\n",
    "        * viñetas\n",
    "        - guiones\n",
    "        1. números\n",
    "        7. si pones un número no consecutivo, Markdown lo corrige\n",
    "            1. para poner subsecciones sólo hay que indentar\n",
    "\n",
    "# Título grande\n",
    "## Título menos grande\n",
    "### Título menos grande\n",
    "#### Título menos grande\n",
    "##### Título menos grande\n",
    "etc\n",
    "\n",
    "Para volver a ver el código que ya haya sido compilado sólo hay que volver a darle clic al markdown\n",
    "\n",
    "Puedes incluir fórmulas y símbolos matemáticos con escribir $$ o $$$$, por ejemplo:\n",
    "$\\frac{\\beta x_{i-1}+4 y^2}{7 \\sqrt{x_i+2}}=\\Gamma(x)$\n",
    "\n",
    "o bien, centrarlo:\n",
    "\n",
    "$$\\frac{\\beta x_{i-1}+4 y^2}{7 \\sqrt{x_i+2}}=\\Gamma(x)$$\n",
    "\n",
    "[Puedes hacer una liga a una página de internet de esta forma, por ejemplo, a la página del CIDE](https://cide.edu/)"
   ]
  },
  {
   "cell_type": "code",
   "execution_count": 16,
   "metadata": {},
   "outputs": [],
   "source": [
    "#para hacer un comentario en una celda de código puedes hacerlo de dos formas, con gato (#) o entre seis comillas (\"\"\")\n",
    "\n",
    "\"\"\"\n",
    "Si lo haces entre comillas, el comentario se ve de esta forma, lo cual es útil para cuando quieras explicar funciones que hagas más adelante tipo:\n",
    "\n",
    "Supongamos que hiciste una función que llamaste PIB(C,I,G,NX), entonces quieres hacer el siguiente comentario:\n",
    "\n",
    "DONDE:\n",
    "\n",
    "- C: consumo del país\n",
    "- I: inversión del país\n",
    "- G: gasto de gobierno\n",
    "- NX: exportaciones netas\n",
    "\n",
    "Este es un ejemplo para que veas cómo puedes hacer un comentario de más de un renglón sin necesidad de un hashtag en cada inicio :)\n",
    "\"\"\"\n",
    "\n",
    "#Ahora, las clases de objetos más comunes en Python son listas, diccionarios, sets y tuplas\n",
    "\n",
    "lista_vacia=[]\n",
    "lista1=[[0,1,2,3],[4,5,6,7]]\n",
    "\n",
    "dic_ej={'key1':[00,10,20,30],'key2':lista1[0]}\n",
    "\n"
   ]
  },
  {
   "cell_type": "markdown",
   "metadata": {},
   "source": [
    "## Cómo manipular un data frame\n",
    "\n",
    "Recordemos nuestra lista1, la librería pandas\n",
    "\n",
    "\n",
    "* te recomiendo que te familiarices con las librerías (Python también les llama módulos) básicas como [pandas](https://pandas.pydata.org/docs/index.html), [numpy](https://numpy.org/doc/stable/) y [matplotlib](https://matplotlib.org/stable/).\n",
    "* si no sabes o no recuerdas cómo usar alguna función, cómo plantear algo, etc, Google o la página stack overflow es una buena opción, ojo con las librerías que instalas con *pip install*. Siempre es bueno revisar la documentación original de las librerías.\n",
    "* Nota: si no tienes un módulo (uno que puedes llegar a usar mucho es [scikit-learn](https://scikit-learn.org/stable/index.html), por ejemplo para series de tiempo), corre la linea !pip install LIBRERÍA; por ejemplo, !pip install scikit-learn. Si tienes dudas, en las documentaciones de las librerías más usadas viene la línea que hay que correr. Sólo recuerda ponerle el ! al inicio si lo corres en un notebook para que Python reconozca que es una línea ejecutable en la terminal de línea de comandos. "
   ]
  },
  {
   "cell_type": "code",
   "execution_count": 8,
   "metadata": {},
   "outputs": [
    {
     "data": {
      "text/html": [
       "<div>\n",
       "<style scoped>\n",
       "    .dataframe tbody tr th:only-of-type {\n",
       "        vertical-align: middle;\n",
       "    }\n",
       "\n",
       "    .dataframe tbody tr th {\n",
       "        vertical-align: top;\n",
       "    }\n",
       "\n",
       "    .dataframe thead th {\n",
       "        text-align: right;\n",
       "    }\n",
       "</style>\n",
       "<table border=\"1\" class=\"dataframe\">\n",
       "  <thead>\n",
       "    <tr style=\"text-align: right;\">\n",
       "      <th></th>\n",
       "      <th>0</th>\n",
       "      <th>1</th>\n",
       "      <th>2</th>\n",
       "      <th>3</th>\n",
       "    </tr>\n",
       "  </thead>\n",
       "  <tbody>\n",
       "    <tr>\n",
       "      <th>0</th>\n",
       "      <td>0</td>\n",
       "      <td>1</td>\n",
       "      <td>2</td>\n",
       "      <td>3</td>\n",
       "    </tr>\n",
       "    <tr>\n",
       "      <th>1</th>\n",
       "      <td>4</td>\n",
       "      <td>5</td>\n",
       "      <td>6</td>\n",
       "      <td>7</td>\n",
       "    </tr>\n",
       "  </tbody>\n",
       "</table>\n",
       "</div>"
      ],
      "text/plain": [
       "   0  1  2  3\n",
       "0  0  1  2  3\n",
       "1  4  5  6  7"
      ]
     },
     "execution_count": 8,
     "metadata": {},
     "output_type": "execute_result"
    }
   ],
   "source": [
    "#Primero que nada necesitas enlistar las librerías que vas a usar. Las más comunes son pandas y numpy\n",
    "import pandas as pd\n",
    "import numpy as np\n",
    "\n",
    "'''\n",
    "Los dataframes son objetos muy aceptados en diversas funcionesde Python. Si necesitas crear uno puedes hacerlo \n",
    "a paprtir de una lista o de un diccionario, como te mostraré a continuación.\n",
    "\n",
    "Observa cómo cambiamos de lista a data frame usando la función DataFrame. \n",
    "Si quieres poner headers o por ejemplo fecha, usas la función set_axis()\n",
    "Compara los siguientes dos ejemplos:\n",
    "'''\n",
    "pd.DataFrame(lista1)"
   ]
  },
  {
   "cell_type": "code",
   "execution_count": 14,
   "metadata": {},
   "outputs": [
    {
     "data": {
      "text/html": [
       "<div>\n",
       "<style scoped>\n",
       "    .dataframe tbody tr th:only-of-type {\n",
       "        vertical-align: middle;\n",
       "    }\n",
       "\n",
       "    .dataframe tbody tr th {\n",
       "        vertical-align: top;\n",
       "    }\n",
       "\n",
       "    .dataframe thead th {\n",
       "        text-align: right;\n",
       "    }\n",
       "</style>\n",
       "<table border=\"1\" class=\"dataframe\">\n",
       "  <thead>\n",
       "    <tr style=\"text-align: right;\">\n",
       "      <th></th>\n",
       "      <th>col1</th>\n",
       "      <th>col2</th>\n",
       "      <th>col3</th>\n",
       "      <th>col4</th>\n",
       "    </tr>\n",
       "  </thead>\n",
       "  <tbody>\n",
       "    <tr>\n",
       "      <th>2010</th>\n",
       "      <td>0</td>\n",
       "      <td>1</td>\n",
       "      <td>2</td>\n",
       "      <td>3</td>\n",
       "    </tr>\n",
       "    <tr>\n",
       "      <th>2011</th>\n",
       "      <td>4</td>\n",
       "      <td>5</td>\n",
       "      <td>6</td>\n",
       "      <td>7</td>\n",
       "    </tr>\n",
       "  </tbody>\n",
       "</table>\n",
       "</div>"
      ],
      "text/plain": [
       "      col1  col2  col3  col4\n",
       "2010     0     1     2     3\n",
       "2011     4     5     6     7"
      ]
     },
     "execution_count": 14,
     "metadata": {},
     "output_type": "execute_result"
    }
   ],
   "source": [
    "pd.DataFrame(lista1).set_axis(['col1','col2','col3','col4'],axis='columns').set_axis(['2010','2011'])"
   ]
  },
  {
   "cell_type": "code",
   "execution_count": 17,
   "metadata": {},
   "outputs": [
    {
     "data": {
      "text/html": [
       "<div>\n",
       "<style scoped>\n",
       "    .dataframe tbody tr th:only-of-type {\n",
       "        vertical-align: middle;\n",
       "    }\n",
       "\n",
       "    .dataframe tbody tr th {\n",
       "        vertical-align: top;\n",
       "    }\n",
       "\n",
       "    .dataframe thead th {\n",
       "        text-align: right;\n",
       "    }\n",
       "</style>\n",
       "<table border=\"1\" class=\"dataframe\">\n",
       "  <thead>\n",
       "    <tr style=\"text-align: right;\">\n",
       "      <th></th>\n",
       "      <th>key1</th>\n",
       "      <th>key2</th>\n",
       "    </tr>\n",
       "  </thead>\n",
       "  <tbody>\n",
       "    <tr>\n",
       "      <th>0</th>\n",
       "      <td>0</td>\n",
       "      <td>0</td>\n",
       "    </tr>\n",
       "    <tr>\n",
       "      <th>1</th>\n",
       "      <td>10</td>\n",
       "      <td>1</td>\n",
       "    </tr>\n",
       "    <tr>\n",
       "      <th>2</th>\n",
       "      <td>20</td>\n",
       "      <td>2</td>\n",
       "    </tr>\n",
       "    <tr>\n",
       "      <th>3</th>\n",
       "      <td>30</td>\n",
       "      <td>3</td>\n",
       "    </tr>\n",
       "  </tbody>\n",
       "</table>\n",
       "</div>"
      ],
      "text/plain": [
       "   key1  key2\n",
       "0     0     0\n",
       "1    10     1\n",
       "2    20     2\n",
       "3    30     3"
      ]
     },
     "execution_count": 17,
     "metadata": {},
     "output_type": "execute_result"
    }
   ],
   "source": [
    "#un diccionario también puede convertirse en data frame, aquí los nombres de columnas se ponen en automático con las keys\n",
    "pd.DataFrame(dic_ej)"
   ]
  },
  {
   "cell_type": "code",
   "execution_count": null,
   "metadata": {},
   "outputs": [],
   "source": []
  }
 ],
 "metadata": {
  "kernelspec": {
   "display_name": "itam",
   "language": "python",
   "name": "python3"
  },
  "language_info": {
   "codemirror_mode": {
    "name": "ipython",
    "version": 3
   },
   "file_extension": ".py",
   "mimetype": "text/x-python",
   "name": "python",
   "nbconvert_exporter": "python",
   "pygments_lexer": "ipython3",
   "version": "3.11.0"
  },
  "orig_nbformat": 4
 },
 "nbformat": 4,
 "nbformat_minor": 2
}
