{
 "cells": [
  {
   "cell_type": "markdown",
   "metadata": {},
   "source": [
    "# Pronóstico de cuenta corriente\n",
    "\n",
    "Debido a que los indicadores que componen la cuenta corriente se encuentran en constante revisión, las cuales pueden ser considerables, es necesario guardar las diferentes versiones con las que se corren los modelos para pronosticarla.\n",
    "\n",
    "### Paso 1. Descargar la versión más reciente de la cuenta corriente de Banco de México"
   ]
  },
  {
   "cell_type": "code",
   "execution_count": 12,
   "metadata": {},
   "outputs": [],
   "source": [
    "import sys\n",
    "import numpy as np\n",
    "import pandas as pd\n",
    "sys.path.append('estancia_investigacion/descargas_informacion')\n",
    "sys.path.append('estancia_investigacion/modelacion_economica')\n",
    "from fun_descarga import *"
   ]
  },
  {
   "cell_type": "code",
   "execution_count": 11,
   "metadata": {},
   "outputs": [
    {
     "name": "stdout",
     "output_type": "stream",
     "text": [
      "['/Users/1thaliaespana1/Documents/Semestre II/ambientes/sandbox_Python/estancia_investigacion/modelacion_economica', '/Users/1thaliaespana1/opt/anaconda3/envs/itam/lib/python311.zip', '/Users/1thaliaespana1/opt/anaconda3/envs/itam/lib/python3.11', '/Users/1thaliaespana1/opt/anaconda3/envs/itam/lib/python3.11/lib-dynload', '', '/Users/1thaliaespana1/opt/anaconda3/envs/itam/lib/python3.11/site-packages', 'estancia_investigacion/descargas_informacion', 'estancia_investigacion/descargas_informacion', 'estancia_investigacion/modelacion_economica', 'estancia_investigacion/descargas_informacion', 'estancia_investigacion/modelacion_economica', 'estancia_investigacion/descargas_informacion', 'estancia_investigacion/modelacion_economica', 'estancia_investigacion/descargas_informacion', 'estancia_investigacion/modelacion_economica']\n"
     ]
    }
   ],
   "source": [
    "print(sys.path)"
   ]
  }
 ],
 "metadata": {
  "kernelspec": {
   "display_name": "itam",
   "language": "python",
   "name": "python3"
  },
  "language_info": {
   "codemirror_mode": {
    "name": "ipython",
    "version": 3
   },
   "file_extension": ".py",
   "mimetype": "text/x-python",
   "name": "python",
   "nbconvert_exporter": "python",
   "pygments_lexer": "ipython3",
   "version": "3.11.0"
  },
  "orig_nbformat": 4
 },
 "nbformat": 4,
 "nbformat_minor": 2
}
