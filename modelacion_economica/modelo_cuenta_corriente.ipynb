{
 "cells": [
  {
   "cell_type": "markdown",
   "metadata": {},
   "source": [
    "# Modelos para pronóstico de cuenta corriente (de series de tiempo y de ciencia de datos)\n",
    "\n",
    "Debido a que los indicadores que componen la cuenta corriente se encuentran en constante revisión, las cuales pueden ser considerables, es necesario guardar las diferentes versiones con las que se corren los modelos para pronosticarla.\n",
    "\n",
    "### Paso 1. Descargar la versión más reciente de la cuenta corriente de Banco de México"
   ]
  },
  {
   "cell_type": "code",
   "execution_count": 64,
   "metadata": {},
   "outputs": [],
   "source": [
    "import sys\n",
    "import numpy as np\n",
    "import pandas as pd\n",
    "from fun_descarga import *"
   ]
  },
  {
   "cell_type": "code",
   "execution_count": 65,
   "metadata": {},
   "outputs": [],
   "source": [
    "c_corr=descargar_banxico('SE44352','2018-01-01','2023-06-01')\n",
    "c_corr_credito=descargar_banxico('SE44353,SE44354,SE44357,SE44363,SE44369','2018-01-01','2023-06-01')\n",
    "c_corr_debito=descargar_banxico('SE44372,SE44373,SE44376,SE44382,SE44390','2018-01-01','2023-06-01')\n",
    "c_cap=descargar_banxico('SE44393,SE44394,SE44395','2018-01-01','2023-06-01')"
   ]
  },
  {
   "cell_type": "code",
   "execution_count": 69,
   "metadata": {},
   "outputs": [],
   "source": [
    "#función que acorta los títulos específicos de balanza de pagos\n",
    "def limpiar_titulo(c_corr_credito):\n",
    "    for k,v in c_corr_credito.items():\n",
    "        nueva=k.split(\"(a partir de 2002)\")[1]\n",
    "        c_corr_credito[nueva]=c_corr_credito.pop(k)\n",
    "    return c_corr_credito\n",
    "c_corr_credito=limpiar_titulo(c_corr_credito)\n",
    "c_corr_debito=limpiar_titulo(c_corr_debito)\n"
   ]
  },
  {
   "cell_type": "code",
   "execution_count": 70,
   "metadata": {},
   "outputs": [
    {
     "data": {
      "text/html": [
       "<div>\n",
       "<style scoped>\n",
       "    .dataframe tbody tr th:only-of-type {\n",
       "        vertical-align: middle;\n",
       "    }\n",
       "\n",
       "    .dataframe tbody tr th {\n",
       "        vertical-align: top;\n",
       "    }\n",
       "\n",
       "    .dataframe thead th {\n",
       "        text-align: right;\n",
       "    }\n",
       "</style>\n",
       "<table border=\"1\" class=\"dataframe\">\n",
       "  <thead>\n",
       "    <tr style=\"text-align: right;\">\n",
       "      <th></th>\n",
       "      <th>Cuenta corriente (I - II) I. Crédito (A + B + C + D) A. Bienes</th>\n",
       "      <th>Cuenta corriente (I - II) I. Crédito (A + B + C + D) D. Ingreso secundario</th>\n",
       "      <th>Cuenta corriente (I - II) I. Crédito (A + B + C + D) B. Servicios 2/</th>\n",
       "      <th>Cuenta corriente (I - II) I. Crédito (A + B + C + D) C. Ingreso primario</th>\n",
       "      <th>Cuenta corriente (I - II) I. Crédito (A + B + C + D)</th>\n",
       "    </tr>\n",
       "    <tr>\n",
       "      <th>fecha</th>\n",
       "      <th></th>\n",
       "      <th></th>\n",
       "      <th></th>\n",
       "      <th></th>\n",
       "      <th></th>\n",
       "    </tr>\n",
       "  </thead>\n",
       "  <tbody>\n",
       "    <tr>\n",
       "      <th>01/01/2018</th>\n",
       "      <td>105384.981986</td>\n",
       "      <td>7397.283475</td>\n",
       "      <td>10134.791731</td>\n",
       "      <td>3027.747818</td>\n",
       "      <td>125944.805010</td>\n",
       "    </tr>\n",
       "    <tr>\n",
       "      <th>01/04/2018</th>\n",
       "      <td>113971.903988</td>\n",
       "      <td>9271.883676</td>\n",
       "      <td>9462.266296</td>\n",
       "      <td>3584.743845</td>\n",
       "      <td>136290.797805</td>\n",
       "    </tr>\n",
       "    <tr>\n",
       "      <th>01/07/2018</th>\n",
       "      <td>114083.889374</td>\n",
       "      <td>8671.781192</td>\n",
       "      <td>9325.348179</td>\n",
       "      <td>3649.303030</td>\n",
       "      <td>135730.321775</td>\n",
       "    </tr>\n",
       "    <tr>\n",
       "      <th>01/10/2018</th>\n",
       "      <td>117641.459404</td>\n",
       "      <td>9185.096001</td>\n",
       "      <td>10690.699474</td>\n",
       "      <td>3270.704511</td>\n",
       "      <td>140787.959390</td>\n",
       "    </tr>\n",
       "    <tr>\n",
       "      <th>01/01/2019</th>\n",
       "      <td>108174.871901</td>\n",
       "      <td>8153.444736</td>\n",
       "      <td>11342.006534</td>\n",
       "      <td>4147.530939</td>\n",
       "      <td>131817.854110</td>\n",
       "    </tr>\n",
       "  </tbody>\n",
       "</table>\n",
       "</div>"
      ],
      "text/plain": [
       "             Cuenta corriente (I - II) I. Crédito (A + B + C + D) A. Bienes  \\\n",
       "fecha                                                                         \n",
       "01/01/2018                                      105384.981986                 \n",
       "01/04/2018                                      113971.903988                 \n",
       "01/07/2018                                      114083.889374                 \n",
       "01/10/2018                                      117641.459404                 \n",
       "01/01/2019                                      108174.871901                 \n",
       "\n",
       "             Cuenta corriente (I - II) I. Crédito (A + B + C + D) D. Ingreso secundario  \\\n",
       "fecha                                                                                     \n",
       "01/01/2018                                        7397.283475                             \n",
       "01/04/2018                                        9271.883676                             \n",
       "01/07/2018                                        8671.781192                             \n",
       "01/10/2018                                        9185.096001                             \n",
       "01/01/2019                                        8153.444736                             \n",
       "\n",
       "             Cuenta corriente (I - II) I. Crédito (A + B + C + D) B. Servicios 2/  \\\n",
       "fecha                                                                               \n",
       "01/01/2018                                       10134.791731                       \n",
       "01/04/2018                                        9462.266296                       \n",
       "01/07/2018                                        9325.348179                       \n",
       "01/10/2018                                       10690.699474                       \n",
       "01/01/2019                                       11342.006534                       \n",
       "\n",
       "             Cuenta corriente (I - II) I. Crédito (A + B + C + D) C. Ingreso primario  \\\n",
       "fecha                                                                                   \n",
       "01/01/2018                                        3027.747818                           \n",
       "01/04/2018                                        3584.743845                           \n",
       "01/07/2018                                        3649.303030                           \n",
       "01/10/2018                                        3270.704511                           \n",
       "01/01/2019                                        4147.530939                           \n",
       "\n",
       "             Cuenta corriente (I - II) I. Crédito (A + B + C + D)  \n",
       "fecha                                                              \n",
       "01/01/2018                                      125944.805010      \n",
       "01/04/2018                                      136290.797805      \n",
       "01/07/2018                                      135730.321775      \n",
       "01/10/2018                                      140787.959390      \n",
       "01/01/2019                                      131817.854110      "
      ]
     },
     "execution_count": 70,
     "metadata": {},
     "output_type": "execute_result"
    }
   ],
   "source": [
    "#ejemplo de cómo se ven los títulos más cortos\n",
    "c_corr_credito.head()"
   ]
  },
  {
   "cell_type": "markdown",
   "metadata": {},
   "source": [
    "### 2. Descargar variables explicativas: remesas, inversión fija bruta y servicio de deuda"
   ]
  },
  {
   "cell_type": "code",
   "execution_count": null,
   "metadata": {},
   "outputs": [],
   "source": []
  },
  {
   "cell_type": "markdown",
   "metadata": {},
   "source": [
    "### 3. Explicación de modelos autoarima, redes neuronales, crossval, inferencia bayesiana (quizá gridsearch)\n",
    "Justificar selección de parámetros "
   ]
  },
  {
   "cell_type": "code",
   "execution_count": null,
   "metadata": {},
   "outputs": [],
   "source": []
  },
  {
   "cell_type": "markdown",
   "metadata": {},
   "source": [
    "### 4. Modelos de predicción para cuenta corriente considerados\n",
    "\n",
    "#### 4.1. Modelo autoarima"
   ]
  },
  {
   "cell_type": "code",
   "execution_count": null,
   "metadata": {},
   "outputs": [],
   "source": []
  },
  {
   "cell_type": "markdown",
   "metadata": {},
   "source": [
    "#### 4.2. Modelo de redes neuronales"
   ]
  },
  {
   "cell_type": "code",
   "execution_count": null,
   "metadata": {},
   "outputs": [],
   "source": []
  },
  {
   "cell_type": "markdown",
   "metadata": {},
   "source": [
    "#### 4.3. Modelo de inferencia bayesiana"
   ]
  },
  {
   "cell_type": "code",
   "execution_count": null,
   "metadata": {},
   "outputs": [],
   "source": []
  },
  {
   "cell_type": "markdown",
   "metadata": {},
   "source": [
    "### 5. Conclusiones"
   ]
  }
 ],
 "metadata": {
  "kernelspec": {
   "display_name": "itam",
   "language": "python",
   "name": "python3"
  },
  "language_info": {
   "codemirror_mode": {
    "name": "ipython",
    "version": 3
   },
   "file_extension": ".py",
   "mimetype": "text/x-python",
   "name": "python",
   "nbconvert_exporter": "python",
   "pygments_lexer": "ipython3",
   "version": "3.11.0"
  },
  "orig_nbformat": 4
 },
 "nbformat": 4,
 "nbformat_minor": 2
}
