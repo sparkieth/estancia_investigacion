{
 "cells": [
  {
   "cell_type": "code",
   "execution_count": null,
   "metadata": {},
   "outputs": [],
   "source": []
  },
  {
   "cell_type": "markdown",
   "metadata": {},
   "source": [
    "# Automatización de descarga de datos de INEGI\n",
    "\n",
    "Para generar un token para usar la API del INEGI se puede consulgar la siguiente [liga](https://www.inegi.org.mx/app/desarrolladores/generatoken/Usuarios/token_Verify)"
   ]
  },
  {
   "cell_type": "code",
   "execution_count": null,
   "metadata": {},
   "outputs": [],
   "source": [
    "import requests\n",
    "import numpy as np\n",
    "import pandas as pd\n",
    "\n",
    "token_1='8f108d9b-a840-3d04-f180-25d11dd88a7a'\n",
    "url='https://www.inegi.org.mx/app/api/indicadores/desarrolladores/jsonxml/INDICATOR/'+serie+'/es/00/true/'+es_BIE+'/2.0/'+token_1+'?type=json'\n",
    "\n",
    "def descargar_inegi(serie,fecha_inicio,fecha_fin,token=token_1)\n",
    "    url='https://www.inegi.org.mx/app/api/indicadores/desarrolladores/jsonxml/INDICATOR/6207061409/es/0700/true/BISE/2.0/'+token_1+'?type=json'\n",
    "    response = requests.get(url,headers=headers)\n",
    "    status=response.status_code\n",
    "    raw_data = response.json()\n"
   ]
  }
 ],
 "metadata": {
  "language_info": {
   "name": "python"
  },
  "orig_nbformat": 4
 },
 "nbformat": 4,
 "nbformat_minor": 2
}
