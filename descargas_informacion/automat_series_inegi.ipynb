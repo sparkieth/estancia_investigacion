{
 "cells": [
  {
   "cell_type": "code",
   "execution_count": null,
   "metadata": {},
   "outputs": [],
   "source": []
  },
  {
   "cell_type": "markdown",
   "metadata": {},
   "source": [
    "# Automatización de descarga de datos de INEGI\n",
    "\n",
    "Para generar un token para usar la API del INEGI se puede consulgar la siguiente [liga](https://www.inegi.org.mx/app/desarrolladores/generatoken/Usuarios/token_Verify)"
   ]
  },
  {
   "cell_type": "code",
   "execution_count": 6,
   "metadata": {},
   "outputs": [
    {
     "data": {
      "text/plain": [
       "{'Header': {'Name': 'Datos compactos BISE',\n",
       "  'Email': 'atencion.usuarios@inegi.org.mx'},\n",
       " 'Series': [{'INDICADOR': '6207061409',\n",
       "   'FREQ': '8',\n",
       "   'TOPIC': '95',\n",
       "   'UNIT': '963',\n",
       "   'UNIT_MULT': '',\n",
       "   'NOTE': '',\n",
       "   'SOURCE': '12002',\n",
       "   'LASTUPDATE': '21/07/2023',\n",
       "   'STATUS': '1',\n",
       "   'OBSERVATIONS': [{'TIME_PERIOD': '2023/05',\n",
       "     'OBS_VALUE': '119.13553778199200000000',\n",
       "     'OBS_EXCEPTION': None,\n",
       "     'OBS_STATUS': '1',\n",
       "     'OBS_SOURCE': '',\n",
       "     'OBS_NOTE': '',\n",
       "     'COBER_GEO': '0700'}]}]}"
      ]
     },
     "execution_count": 6,
     "metadata": {},
     "output_type": "execute_result"
    }
   ],
   "source": [
    "import requests\n",
    "import numpy as np\n",
    "import pandas as pd\n",
    "\n",
    "token_1='8f108d9b-a840-3d04-f180-25d11dd88a7a'\n",
    "\n",
    "def descargar_inegi(serie,fecha_inicio,fecha_fin,token=token_1):\n",
    "    url='https://www.inegi.org.mx/app/api/indicadores/desarrolladores/jsonxml/INDICATOR/'+serie+'/es/0700/true/BISE/2.0/'+token_1+'?type=json'\n",
    "    headers = {'Token':token}\n",
    "    response = requests.get(url,headers=headers)\n",
    "    status=response.status_code\n",
    "    raw_data = response.json()\n",
    "    return raw_data\n",
    "descargar_inegi('6207061409','2016-01-01','2023-05-01',token_1)"
   ]
  }
 ],
 "metadata": {
  "kernelspec": {
   "display_name": "itam",
   "language": "python",
   "name": "python3"
  },
  "language_info": {
   "codemirror_mode": {
    "name": "ipython",
    "version": 3
   },
   "file_extension": ".py",
   "mimetype": "text/x-python",
   "name": "python",
   "nbconvert_exporter": "python",
   "pygments_lexer": "ipython3",
   "version": "3.11.0"
  },
  "orig_nbformat": 4
 },
 "nbformat": 4,
 "nbformat_minor": 2
}
